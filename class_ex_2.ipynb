{
 "cells": [
  {
   "cell_type": "markdown",
   "metadata": {},
   "source": [
    "# In-class exercise 2\n",
    "\n",
    "**Author:**"
   ]
  },
  {
   "cell_type": "markdown",
   "metadata": {},
   "source": [
    "**Exercise 1:**\n",
    "\n",
    "You are given an array ```prices``` where ```prices[i]``` is the price of a given stock on the ith day.\n",
    "\n",
    "**Task:** Choose a single day to buy a stock and another day to sell that stock in the future to maximize our profit.\n",
    "\n",
    "**Input:** ```prices = [7, 1, 5, 3, 6, 4]```\n",
    "\n",
    "**Output:** 5"
   ]
  },
  {
   "cell_type": "code",
   "execution_count": 2,
   "metadata": {},
   "outputs": [
    {
     "data": {
      "text/plain": [
       "5"
      ]
     },
     "execution_count": 2,
     "metadata": {},
     "output_type": "execute_result"
    }
   ],
   "source": [
    "prices = [7, 1, 5, 3, 6, 4]\n",
    "\n",
    "def max_prof(prices):\n",
    "    maximum = 0\n",
    "    for i in prices:\n",
    "        for k in range(i + 1, len(prices)):\n",
    "            if prices[k] - prices[i] > maximum:\n",
    "                maximum = prices[k] - prices[i]\n",
    "                    \n",
    "    return maximum\n",
    "\n",
    "max_prof(prices)"
   ]
  },
  {
   "cell_type": "markdown",
   "metadata": {},
   "source": [
    "**Input:** ```prices = [7,6,4,3,1]```\n",
    "\n",
    "**Output:** ?\n"
   ]
  },
  {
   "cell_type": "code",
   "execution_count": 1,
   "metadata": {},
   "outputs": [
    {
     "data": {
      "text/plain": [
       "0"
      ]
     },
     "execution_count": 1,
     "metadata": {},
     "output_type": "execute_result"
    }
   ],
   "source": [
    "prices = [7,6,4,3,1]\n",
    "def max_prof(prices):\n",
    "    maximum = 0\n",
    "    for i in prices:\n",
    "        for k in range(i + 1, len(prices)):\n",
    "            if prices[k] - prices[i] > maximum:\n",
    "                maximum = prices[k] - prices[i]\n",
    "                    \n",
    "    return maximum\n",
    "\n",
    "max_prof(prices)"
   ]
  },
  {
   "cell_type": "markdown",
   "metadata": {},
   "source": [
    "**Exercise 2:**\n",
    "\n",
    "**Write a function to determine if a number ```n``` is happy.**\n",
    "\n",
    "A happy number is a number defined by the following process:\n",
    "\n",
    "- Starting with any positive integer, replace the number by the sum of the squares of its digits.\n",
    "\n",
    "- Repeat the process until the number equals 1 (where it will stay), or it loops endlessly in a cycle which does not include 1.\n",
    "\n",
    "- Those numbers for which this process ends in 1 are happy.\n",
    "\n",
    "Return true if n is a happy number, and false if not.\n",
    "\n",
    "*Hint:* separate the problem into two functions. \n",
    "\n",
    "<span style=\"color:white\"> ' </span>\n",
    "\n",
    "1. The first function finds the next number (in the example go from 19 to 82). For that function you have to options:\n",
    "\n",
    "    **a.** You can transform the number into a string and iterate across all possible characters of the integer \n",
    "    \n",
    "    **b.** You can consider using the function ```divmod(n, 10)``` that returns a pair of numbers consisting of numbers ```n``` and 10 quotient and remainder. Some examples of divmod: \n",
    "\n",
    "    - ```divmod(19, 10)= (1,9)``` and ```divmod(1, 10)= (0,1)``` (note that we care about the second element of each tuple: $9^2 + 1^2 = 82$)\n",
    "    \n",
    "<span style=\"color:white\"> ' </span>\n",
    "\n",
    "2. Create a second function that tests whether the next number is one, or the sequence loops endlessly in a cycle. **Note:** The sequence of numbers can enter into an infinite cycle (see image on the class screen). In that case you want to test whether you have entered a cycle (**in a cycle you will eventually revisit the same number!**)."
   ]
  },
  {
   "cell_type": "markdown",
   "metadata": {},
   "source": [
    "**Example 1:**\n",
    "\n",
    "**Input:** n = 19\n",
    "\n",
    "**Output:** True\n",
    "\n",
    "Explanation:\n",
    "\n",
    "$1^2 + 9^2 = 82$\n",
    "\n",
    "$8^2 + 2^2 = 68$\n",
    "\n",
    "$6^2 + 8^2 = 100$\n",
    "\n",
    "$1^2 + 0^2 + 0^2 = 1$"
   ]
  },
  {
   "cell_type": "code",
   "execution_count": 2,
   "metadata": {},
   "outputs": [
    {
     "data": {
      "text/plain": [
       "82"
      ]
     },
     "execution_count": 2,
     "metadata": {},
     "output_type": "execute_result"
    }
   ],
   "source": [
    "n = 19\n",
    "ns = str(n) #now the number type change from int to str, because u want to illiterate across a string and interger cant do that \n",
    "total_sum = 0\n",
    "for c in ns:\n",
    "    total_sum = total_sum + int(c)**2 \n",
    "total_sum"
   ]
  },
  {
   "cell_type": "code",
   "execution_count": 6,
   "metadata": {},
   "outputs": [
    {
     "data": {
      "text/plain": [
       "82"
      ]
     },
     "execution_count": 6,
     "metadata": {},
     "output_type": "execute_result"
    }
   ],
   "source": [
    "def next_number(n):\n",
    "    \n",
    "    # n doesnt need to be defined because its a simple, and n = 19 is input after return the function \n",
    "    if not isinstance(n,int): #just a supplemental knowlege, if the n is 19.1 or a dicemal, it gives an error \n",
    "        raise exception('n has to be an interger')\n",
    "    ns = str(n) #now the number type change from int to str, because u want to illiterate across a string and interger cant do that \n",
    "    total_sum = 0 #value 0 as a place holder\n",
    "    for c in ns:\n",
    "        total_sum += int(c)**2 \n",
    "    return total_sum\n",
    "\n",
    "next_number(19)"
   ]
  },
  {
   "cell_type": "markdown",
   "metadata": {},
   "source": [
    "**Example 2:**\n",
    "\n",
    "**Input:** n = 116\n",
    "\n",
    "**Output:** False"
   ]
  },
  {
   "cell_type": "code",
   "execution_count": null,
   "metadata": {},
   "outputs": [],
   "source": [
    "def happy_number(n):\n",
    "    checked = []\n",
    "    while n !=1 and n not in checked: #n can not be 1 #?\n",
    "        checked.append(n) #why do we flip the order?\n",
    "        n = next_number(n)\n",
    "        if n == 1:\n",
    "            return 'Happy mumber'\n",
    "        else: return 'not a happy number'\n",
    "\n",
    "happy_number(116)"
   ]
  },
  {
   "cell_type": "markdown",
   "metadata": {},
   "source": [
    "**Example 3:**\n",
    "\n",
    "**Input:** n = 2\n",
    "\n",
    "**Output:** False"
   ]
  },
  {
   "cell_type": "markdown",
   "metadata": {},
   "source": [
    "**Exercise 3:**\n",
    "\n",
    "Assume you get an a list of 100 elements (0,1) representing the result of tossing a coin Heads are 1s and Tails are 0s. For example:\n",
    "\n",
    "```python\n",
    "array([0, 0, 0, 0, 0, 0, 0, 0, 0, 0, 0, 1, 0, 0, 0, 0, 1, 1, 1, 1, 0, 0,\n",
    "       1, 0, 0, 0, 0, 0, 1, 1, 0, 1, 0, 0, 0, 0, 0, 0, 1, 0, 0, 0, 0, 0,\n",
    "       1, 1, 0, 0, 0, 1, 1, 1, 0, 0, 0, 0, 1, 0, 0, 1, 0, 0, 0, 1, 0, 0,\n",
    "       1, 1, 0, 0, 0, 0, 0, 1, 0, 0, 1, 0, 1, 0, 0, 0, 0, 0, 0, 0, 0, 0,\n",
    "       0, 1, 1, 0, 0, 0, 1, 1, 1, 0, 0, 0])\n",
    "```\n",
    "\n",
    "1. Calculate the probability of getting Heads based on the array.\n",
    "\n",
    "2. Calculate the probability for the array resulting from the following function:"
   ]
  },
  {
   "cell_type": "code",
   "execution_count": 8,
   "metadata": {},
   "outputs": [
    {
     "data": {
      "text/plain": [
       "0.30003816"
      ]
     },
     "execution_count": 8,
     "metadata": {},
     "output_type": "execute_result"
    }
   ],
   "source": [
    "import numpy as np #import once only \n",
    "a = np.random.binomial(1, 0.3, size=100000000)\n",
    "a.mean()\n"
   ]
  },
  {
   "cell_type": "code",
   "execution_count": 9,
   "metadata": {},
   "outputs": [],
   "source": [
    "#practical probability we get from literally throwing 100 coins, the probabilty of head is 0.28\n",
    "sample = np.array([0, 0, 0, 0, 0, 0, 0, 0, 0, 0, 0, 1, 0, 0, 0, 0, 1, 1, 1, 1, 0, 0,\n",
    "       1, 0, 0, 0, 0, 0, 1, 1, 0, 1, 0, 0, 0, 0, 0, 0, 1, 0, 0, 0, 0, 0,\n",
    "       1, 1, 0, 0, 0, 1, 1, 1, 0, 0, 0, 0, 1, 0, 0, 1, 0, 0, 0, 1, 0, 0,\n",
    "       1, 1, 0, 0, 0, 0, 0, 1, 0, 0, 1, 0, 1, 0, 0, 0, 0, 0, 0, 0, 0, 0,\n",
    "       0, 1, 1, 0, 0, 0, 1, 1, 1, 0, 0, 0])"
   ]
  },
  {
   "cell_type": "code",
   "execution_count": 10,
   "metadata": {},
   "outputs": [
    {
     "data": {
      "text/plain": [
       "0.28"
      ]
     },
     "execution_count": 10,
     "metadata": {},
     "output_type": "execute_result"
    }
   ],
   "source": [
    "sample.mean()"
   ]
  },
  {
   "cell_type": "markdown",
   "metadata": {},
   "source": [
    "3. Create a function to calculate the mean of 1000 random samples of size 100 and return a list. Use the function ```np.random.choice(a, 100)``` to extract random samples of size 100.\n",
    "\n",
    "4. Draw a histogram of the list you just created. Use the function ```plt.hist(list)``` from ```matplotlib```:\n",
    "\n",
    "```python\n",
    "from matplotlib import pyplot as plt\n",
    "```"
   ]
  },
  {
   "cell_type": "code",
   "execution_count": 17,
   "metadata": {},
   "outputs": [],
   "source": [
    "\n",
    "random_samples = [] #place holder for array \n",
    "\n",
    "for r in range(1000):\n",
    "    random_samples.append(np.random.choice(a,100).mean())\n",
    "    "
   ]
  },
  {
   "cell_type": "code",
   "execution_count": 14,
   "metadata": {},
   "outputs": [
    {
     "data": {
      "text/plain": [
       "(array([  1.,   6.,  23., 116., 320., 170., 213., 100.,  45.,   6.]),\n",
       " array([0.14, 0.17, 0.2 , 0.23, 0.26, 0.29, 0.32, 0.35, 0.38, 0.41, 0.44]),\n",
       " <BarContainer object of 10 artists>)"
      ]
     },
     "execution_count": 14,
     "metadata": {},
     "output_type": "execute_result"
    },
    {
     "data": {
      "image/png": "[encoded data removed]",
      "text/plain": [
       "<Figure size 432x288 with 1 Axes>"
      ]
     },
     "metadata": {
      "needs_background": "light"
     },
     "output_type": "display_data"
    }
   ],
   "source": [
    "from matplotlib import pyplot as plt \n",
    "plt.hist(random_samples)\n"
   ]
  },
  {
   "cell_type": "code",
   "execution_count": null,
   "metadata": {},
   "outputs": [],
   "source": []
  },
  {
   "cell_type": "code",
   "execution_count": null,
   "metadata": {},
   "outputs": [],
   "source": []
  }
 ],
 "metadata": {
  "kernelspec": {
   "display_name": "conda_amazonei_mxnet_p36",
   "language": "python",
   "name": "conda_amazonei_mxnet_p36"
  },
  "language_info": {
   "codemirror_mode": {
    "name": "ipython",
    "version": 3
   },
   "file_extension": ".py",
   "mimetype": "text/x-python",
   "name": "python",
   "nbconvert_exporter": "python",
   "pygments_lexer": "ipython3",
   "version": "3.6.13"
  },
  "vscode": {
   "interpreter": {
    "hash": "11838f79d2aaadbfa3a2adfaf35bacdebdb4e8d9b63957ddf298964812544a76"
   }
  }
 },
 "nbformat": 4,
 "nbformat_minor": 4
}
